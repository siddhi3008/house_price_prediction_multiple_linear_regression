{
  "cells": [
    {
      "cell_type": "code",
      "execution_count": 22,
      "metadata": {
        "execution": {
          "iopub.execute_input": "2021-07-13T12:15:15.379084Z",
          "iopub.status.busy": "2021-07-13T12:15:15.378338Z",
          "iopub.status.idle": "2021-07-13T12:15:16.430652Z",
          "shell.execute_reply": "2021-07-13T12:15:16.429902Z"
        },
        "papermill": {
          "duration": 1.08003,
          "end_time": "2021-07-13T12:15:16.430822",
          "exception": false,
          "start_time": "2021-07-13T12:15:15.350792",
          "status": "completed"
        },
        "tags": [],
        "id": "42-2NNknWf2G"
      },
      "outputs": [],
      "source": [
        "import matplotlib.pyplot as plt\n",
        "%matplotlib inline\n",
        "import numpy as np \n",
        "import pandas as pd \n",
        "import os\n",
        "import seaborn as sns\n",
        "import warnings\n",
        "warnings.filterwarnings('ignore')"
      ]
    },
    {
      "cell_type": "markdown",
      "metadata": {
        "_cell_guid": "79c7e3d0-c299-4dcb-8224-4455121ee9b0",
        "_uuid": "d629ff2d2480ee46fbb7e2d37f6b5fab8052498a",
        "papermill": {
          "duration": 0.019757,
          "end_time": "2021-07-13T12:15:16.470619",
          "exception": false,
          "start_time": "2021-07-13T12:15:16.450862",
          "status": "completed"
        },
        "tags": [],
        "id": "J0t6VmrfWf2H"
      },
      "source": [
        "# 1. Import Dataset\n"
      ]
    },
    {
      "cell_type": "code",
      "execution_count": 3,
      "metadata": {
        "execution": {
          "iopub.execute_input": "2021-07-13T12:15:16.523658Z",
          "iopub.status.busy": "2021-07-13T12:15:16.522923Z",
          "iopub.status.idle": "2021-07-13T12:15:16.560201Z",
          "shell.execute_reply": "2021-07-13T12:15:16.559461Z"
        },
        "papermill": {
          "duration": 0.069311,
          "end_time": "2021-07-13T12:15:16.560355",
          "exception": false,
          "start_time": "2021-07-13T12:15:16.491044",
          "status": "completed"
        },
        "tags": [],
        "colab": {
          "base_uri": "https://localhost:8080/",
          "height": 206
        },
        "id": "EWz-C97jWf2I",
        "outputId": "6fce8270-2cd2-4ba4-b641-d0f83008d198"
      },
      "outputs": [
        {
          "output_type": "execute_result",
          "data": {
            "text/plain": [
              "   area  bedrooms  age   price\n",
              "0  1700         3    2  550000\n",
              "1  2100         4   11  565000\n",
              "2  1500         2   18  610000\n",
              "3  2100         3    3  595000\n",
              "4  9000         5    5  760000"
            ],
            "text/html": [
              "\n",
              "  <div id=\"df-23f3440b-c9af-421c-96ad-7b7c53cde2c5\">\n",
              "    <div class=\"colab-df-container\">\n",
              "      <div>\n",
              "<style scoped>\n",
              "    .dataframe tbody tr th:only-of-type {\n",
              "        vertical-align: middle;\n",
              "    }\n",
              "\n",
              "    .dataframe tbody tr th {\n",
              "        vertical-align: top;\n",
              "    }\n",
              "\n",
              "    .dataframe thead th {\n",
              "        text-align: right;\n",
              "    }\n",
              "</style>\n",
              "<table border=\"1\" class=\"dataframe\">\n",
              "  <thead>\n",
              "    <tr style=\"text-align: right;\">\n",
              "      <th></th>\n",
              "      <th>area</th>\n",
              "      <th>bedrooms</th>\n",
              "      <th>age</th>\n",
              "      <th>price</th>\n",
              "    </tr>\n",
              "  </thead>\n",
              "  <tbody>\n",
              "    <tr>\n",
              "      <th>0</th>\n",
              "      <td>1700</td>\n",
              "      <td>3</td>\n",
              "      <td>2</td>\n",
              "      <td>550000</td>\n",
              "    </tr>\n",
              "    <tr>\n",
              "      <th>1</th>\n",
              "      <td>2100</td>\n",
              "      <td>4</td>\n",
              "      <td>11</td>\n",
              "      <td>565000</td>\n",
              "    </tr>\n",
              "    <tr>\n",
              "      <th>2</th>\n",
              "      <td>1500</td>\n",
              "      <td>2</td>\n",
              "      <td>18</td>\n",
              "      <td>610000</td>\n",
              "    </tr>\n",
              "    <tr>\n",
              "      <th>3</th>\n",
              "      <td>2100</td>\n",
              "      <td>3</td>\n",
              "      <td>3</td>\n",
              "      <td>595000</td>\n",
              "    </tr>\n",
              "    <tr>\n",
              "      <th>4</th>\n",
              "      <td>9000</td>\n",
              "      <td>5</td>\n",
              "      <td>5</td>\n",
              "      <td>760000</td>\n",
              "    </tr>\n",
              "  </tbody>\n",
              "</table>\n",
              "</div>\n",
              "      <button class=\"colab-df-convert\" onclick=\"convertToInteractive('df-23f3440b-c9af-421c-96ad-7b7c53cde2c5')\"\n",
              "              title=\"Convert this dataframe to an interactive table.\"\n",
              "              style=\"display:none;\">\n",
              "        \n",
              "  <svg xmlns=\"http://www.w3.org/2000/svg\" height=\"24px\"viewBox=\"0 0 24 24\"\n",
              "       width=\"24px\">\n",
              "    <path d=\"M0 0h24v24H0V0z\" fill=\"none\"/>\n",
              "    <path d=\"M18.56 5.44l.94 2.06.94-2.06 2.06-.94-2.06-.94-.94-2.06-.94 2.06-2.06.94zm-11 1L8.5 8.5l.94-2.06 2.06-.94-2.06-.94L8.5 2.5l-.94 2.06-2.06.94zm10 10l.94 2.06.94-2.06 2.06-.94-2.06-.94-.94-2.06-.94 2.06-2.06.94z\"/><path d=\"M17.41 7.96l-1.37-1.37c-.4-.4-.92-.59-1.43-.59-.52 0-1.04.2-1.43.59L10.3 9.45l-7.72 7.72c-.78.78-.78 2.05 0 2.83L4 21.41c.39.39.9.59 1.41.59.51 0 1.02-.2 1.41-.59l7.78-7.78 2.81-2.81c.8-.78.8-2.07 0-2.86zM5.41 20L4 18.59l7.72-7.72 1.47 1.35L5.41 20z\"/>\n",
              "  </svg>\n",
              "      </button>\n",
              "      \n",
              "  <style>\n",
              "    .colab-df-container {\n",
              "      display:flex;\n",
              "      flex-wrap:wrap;\n",
              "      gap: 12px;\n",
              "    }\n",
              "\n",
              "    .colab-df-convert {\n",
              "      background-color: #E8F0FE;\n",
              "      border: none;\n",
              "      border-radius: 50%;\n",
              "      cursor: pointer;\n",
              "      display: none;\n",
              "      fill: #1967D2;\n",
              "      height: 32px;\n",
              "      padding: 0 0 0 0;\n",
              "      width: 32px;\n",
              "    }\n",
              "\n",
              "    .colab-df-convert:hover {\n",
              "      background-color: #E2EBFA;\n",
              "      box-shadow: 0px 1px 2px rgba(60, 64, 67, 0.3), 0px 1px 3px 1px rgba(60, 64, 67, 0.15);\n",
              "      fill: #174EA6;\n",
              "    }\n",
              "\n",
              "    [theme=dark] .colab-df-convert {\n",
              "      background-color: #3B4455;\n",
              "      fill: #D2E3FC;\n",
              "    }\n",
              "\n",
              "    [theme=dark] .colab-df-convert:hover {\n",
              "      background-color: #434B5C;\n",
              "      box-shadow: 0px 1px 3px 1px rgba(0, 0, 0, 0.15);\n",
              "      filter: drop-shadow(0px 1px 2px rgba(0, 0, 0, 0.3));\n",
              "      fill: #FFFFFF;\n",
              "    }\n",
              "  </style>\n",
              "\n",
              "      <script>\n",
              "        const buttonEl =\n",
              "          document.querySelector('#df-23f3440b-c9af-421c-96ad-7b7c53cde2c5 button.colab-df-convert');\n",
              "        buttonEl.style.display =\n",
              "          google.colab.kernel.accessAllowed ? 'block' : 'none';\n",
              "\n",
              "        async function convertToInteractive(key) {\n",
              "          const element = document.querySelector('#df-23f3440b-c9af-421c-96ad-7b7c53cde2c5');\n",
              "          const dataTable =\n",
              "            await google.colab.kernel.invokeFunction('convertToInteractive',\n",
              "                                                     [key], {});\n",
              "          if (!dataTable) return;\n",
              "\n",
              "          const docLinkHtml = 'Like what you see? Visit the ' +\n",
              "            '<a target=\"_blank\" href=https://colab.research.google.com/notebooks/data_table.ipynb>data table notebook</a>'\n",
              "            + ' to learn more about interactive tables.';\n",
              "          element.innerHTML = '';\n",
              "          dataTable['output_type'] = 'display_data';\n",
              "          await google.colab.output.renderOutput(dataTable, element);\n",
              "          const docLink = document.createElement('div');\n",
              "          docLink.innerHTML = docLinkHtml;\n",
              "          element.appendChild(docLink);\n",
              "        }\n",
              "      </script>\n",
              "    </div>\n",
              "  </div>\n",
              "  "
            ]
          },
          "metadata": {},
          "execution_count": 3
        }
      ],
      "source": [
        "df  = pd.read_csv('/content/home_price_dataset.csv')\n",
        "\n",
        "df.head()"
      ]
    },
    {
      "cell_type": "code",
      "execution_count": 4,
      "metadata": {
        "execution": {
          "iopub.execute_input": "2021-07-13T12:15:16.618280Z",
          "iopub.status.busy": "2021-07-13T12:15:16.617535Z",
          "iopub.status.idle": "2021-07-13T12:15:16.623344Z",
          "shell.execute_reply": "2021-07-13T12:15:16.622568Z"
        },
        "papermill": {
          "duration": 0.040056,
          "end_time": "2021-07-13T12:15:16.623476",
          "exception": false,
          "start_time": "2021-07-13T12:15:16.583420",
          "status": "completed"
        },
        "tags": [],
        "colab": {
          "base_uri": "https://localhost:8080/"
        },
        "id": "ISxtVtIhWf2J",
        "outputId": "d6062189-3f3e-4b11-ef0e-d92fe09b1438"
      },
      "outputs": [
        {
          "output_type": "stream",
          "name": "stdout",
          "text": [
            "<class 'pandas.core.frame.DataFrame'>\n",
            "RangeIndex: 25 entries, 0 to 24\n",
            "Data columns (total 4 columns):\n",
            " #   Column    Non-Null Count  Dtype\n",
            "---  ------    --------------  -----\n",
            " 0   area      25 non-null     int64\n",
            " 1   bedrooms  25 non-null     int64\n",
            " 2   age       25 non-null     int64\n",
            " 3   price     25 non-null     int64\n",
            "dtypes: int64(4)\n",
            "memory usage: 928.0 bytes\n"
          ]
        }
      ],
      "source": [
        "df.info()"
      ]
    },
    {
      "cell_type": "code",
      "execution_count": 6,
      "metadata": {
        "execution": {
          "iopub.execute_input": "2021-07-13T12:15:16.681059Z",
          "iopub.status.busy": "2021-07-13T12:15:16.679723Z",
          "iopub.status.idle": "2021-07-13T12:15:16.877148Z",
          "shell.execute_reply": "2021-07-13T12:15:16.877719Z"
        },
        "papermill": {
          "duration": 0.233283,
          "end_time": "2021-07-13T12:15:16.877897",
          "exception": false,
          "start_time": "2021-07-13T12:15:16.644614",
          "status": "completed"
        },
        "tags": [],
        "colab": {
          "base_uri": "https://localhost:8080/",
          "height": 300
        },
        "id": "NtyKRuewWf2J",
        "outputId": "34902ca9-cb08-4aa6-ead6-d3b3d60b9774"
      },
      "outputs": [
        {
          "output_type": "execute_result",
          "data": {
            "text/plain": [
              "<pandas.io.formats.style.Styler at 0x7f6ff78c86d0>"
            ],
            "text/html": [
              "<style type=\"text/css\">\n",
              "#T_eac21_row0_col0, #T_eac21_row0_col3, #T_eac21_row3_col1, #T_eac21_row3_col2 {\n",
              "  background-color: #000000;\n",
              "  color: #f1f1f1;\n",
              "}\n",
              "#T_eac21_row0_col1, #T_eac21_row0_col2, #T_eac21_row7_col0, #T_eac21_row7_col3 {\n",
              "  background-color: #ffffff;\n",
              "  color: #000000;\n",
              "}\n",
              "#T_eac21_row1_col0 {\n",
              "  background-color: #f26112;\n",
              "  color: #f1f1f1;\n",
              "}\n",
              "#T_eac21_row1_col1 {\n",
              "  background-color: #2b2688;\n",
              "  color: #f1f1f1;\n",
              "}\n",
              "#T_eac21_row1_col2 {\n",
              "  background-color: #4326b0;\n",
              "  color: #f1f1f1;\n",
              "}\n",
              "#T_eac21_row1_col3 {\n",
              "  background-color: #e77d02;\n",
              "  color: #f1f1f1;\n",
              "}\n",
              "#T_eac21_row2_col0 {\n",
              "  background-color: #a43476;\n",
              "  color: #f1f1f1;\n",
              "}\n",
              "#T_eac21_row2_col1 {\n",
              "  background-color: #0c0c28;\n",
              "  color: #f1f1f1;\n",
              "}\n",
              "#T_eac21_row2_col2 {\n",
              "  background-color: #3a26a0;\n",
              "  color: #f1f1f1;\n",
              "}\n",
              "#T_eac21_row2_col3 {\n",
              "  background-color: #732d9f;\n",
              "  color: #f1f1f1;\n",
              "}\n",
              "#T_eac21_row3_col0 {\n",
              "  background-color: #050510;\n",
              "  color: #f1f1f1;\n",
              "}\n",
              "#T_eac21_row3_col3 {\n",
              "  background-color: #020208;\n",
              "  color: #f1f1f1;\n",
              "}\n",
              "#T_eac21_row4_col0 {\n",
              "  background-color: #322694;\n",
              "  color: #f1f1f1;\n",
              "}\n",
              "#T_eac21_row4_col1 {\n",
              "  background-color: #191954;\n",
              "  color: #f1f1f1;\n",
              "}\n",
              "#T_eac21_row4_col2 {\n",
              "  background-color: #181850;\n",
              "  color: #f1f1f1;\n",
              "}\n",
              "#T_eac21_row4_col3 {\n",
              "  background-color: #fd4028;\n",
              "  color: #f1f1f1;\n",
              "}\n",
              "#T_eac21_row5_col0 {\n",
              "  background-color: #e6c72f;\n",
              "  color: #000000;\n",
              "}\n",
              "#T_eac21_row5_col1 {\n",
              "  background-color: #262680;\n",
              "  color: #f1f1f1;\n",
              "}\n",
              "#T_eac21_row5_col2 {\n",
              "  background-color: #3d26a6;\n",
              "  color: #f1f1f1;\n",
              "}\n",
              "#T_eac21_row5_col3 {\n",
              "  background-color: #e69b0b;\n",
              "  color: #f1f1f1;\n",
              "}\n",
              "#T_eac21_row6_col0, #T_eac21_row6_col3 {\n",
              "  background-color: #e9e98f;\n",
              "  color: #000000;\n",
              "}\n",
              "#T_eac21_row6_col1 {\n",
              "  background-color: #4026aa;\n",
              "  color: #f1f1f1;\n",
              "}\n",
              "#T_eac21_row6_col2 {\n",
              "  background-color: #762d9d;\n",
              "  color: #f1f1f1;\n",
              "}\n",
              "#T_eac21_row7_col1 {\n",
              "  background-color: #802f95;\n",
              "  color: #f1f1f1;\n",
              "}\n",
              "#T_eac21_row7_col2 {\n",
              "  background-color: #e6b114;\n",
              "  color: #000000;\n",
              "}\n",
              "</style>\n",
              "<table id=\"T_eac21_\" class=\"dataframe\">\n",
              "  <thead>\n",
              "    <tr>\n",
              "      <th class=\"blank level0\" >&nbsp;</th>\n",
              "      <th class=\"col_heading level0 col0\" >area</th>\n",
              "      <th class=\"col_heading level0 col1\" >bedrooms</th>\n",
              "      <th class=\"col_heading level0 col2\" >age</th>\n",
              "      <th class=\"col_heading level0 col3\" >price</th>\n",
              "    </tr>\n",
              "  </thead>\n",
              "  <tbody>\n",
              "    <tr>\n",
              "      <th id=\"T_eac21_level0_row0\" class=\"row_heading level0 row0\" >count</th>\n",
              "      <td id=\"T_eac21_row0_col0\" class=\"data row0 col0\" >25.000000</td>\n",
              "      <td id=\"T_eac21_row0_col1\" class=\"data row0 col1\" >25.000000</td>\n",
              "      <td id=\"T_eac21_row0_col2\" class=\"data row0 col2\" >25.000000</td>\n",
              "      <td id=\"T_eac21_row0_col3\" class=\"data row0 col3\" >25.000000</td>\n",
              "    </tr>\n",
              "    <tr>\n",
              "      <th id=\"T_eac21_level0_row1\" class=\"row_heading level0 row1\" >mean</th>\n",
              "      <td id=\"T_eac21_row1_col0\" class=\"data row1 col0\" >5076.000000</td>\n",
              "      <td id=\"T_eac21_row1_col1\" class=\"data row1 col1\" >4.440000</td>\n",
              "      <td id=\"T_eac21_row1_col2\" class=\"data row1 col2\" >5.560000</td>\n",
              "      <td id=\"T_eac21_row1_col3\" class=\"data row1 col3\" >558800.000000</td>\n",
              "    </tr>\n",
              "    <tr>\n",
              "      <th id=\"T_eac21_level0_row2\" class=\"row_heading level0 row2\" >std</th>\n",
              "      <td id=\"T_eac21_row2_col0\" class=\"data row2 col0\" >3526.244461</td>\n",
              "      <td id=\"T_eac21_row2_col1\" class=\"data row2 col1\" >2.022375</td>\n",
              "      <td id=\"T_eac21_row2_col2\" class=\"data row2 col2\" >4.717697</td>\n",
              "      <td id=\"T_eac21_row2_col3\" class=\"data row2 col3\" >283322.107621</td>\n",
              "    </tr>\n",
              "    <tr>\n",
              "      <th id=\"T_eac21_level0_row3\" class=\"row_heading level0 row3\" >min</th>\n",
              "      <td id=\"T_eac21_row3_col0\" class=\"data row3 col0\" >200.000000</td>\n",
              "      <td id=\"T_eac21_row3_col1\" class=\"data row3 col1\" >1.000000</td>\n",
              "      <td id=\"T_eac21_row3_col2\" class=\"data row3 col2\" >0.000000</td>\n",
              "      <td id=\"T_eac21_row3_col3\" class=\"data row3 col3\" >10000.000000</td>\n",
              "    </tr>\n",
              "    <tr>\n",
              "      <th id=\"T_eac21_level0_row4\" class=\"row_heading level0 row4\" >25%</th>\n",
              "      <td id=\"T_eac21_row4_col0\" class=\"data row4 col0\" >1500.000000</td>\n",
              "      <td id=\"T_eac21_row4_col1\" class=\"data row4 col1\" >3.000000</td>\n",
              "      <td id=\"T_eac21_row4_col2\" class=\"data row4 col2\" >2.000000</td>\n",
              "      <td id=\"T_eac21_row4_col3\" class=\"data row4 col3\" >450000.000000</td>\n",
              "    </tr>\n",
              "    <tr>\n",
              "      <th id=\"T_eac21_level0_row5\" class=\"row_heading level0 row5\" >50%</th>\n",
              "      <td id=\"T_eac21_row5_col0\" class=\"data row5 col0\" >7000.000000</td>\n",
              "      <td id=\"T_eac21_row5_col1\" class=\"data row5 col1\" >4.000000</td>\n",
              "      <td id=\"T_eac21_row5_col2\" class=\"data row5 col2\" >5.000000</td>\n",
              "      <td id=\"T_eac21_row5_col3\" class=\"data row5 col3\" >610000.000000</td>\n",
              "    </tr>\n",
              "    <tr>\n",
              "      <th id=\"T_eac21_level0_row6\" class=\"row_heading level0 row6\" >75%</th>\n",
              "      <td id=\"T_eac21_row6_col0\" class=\"data row6 col0\" >8000.000000</td>\n",
              "      <td id=\"T_eac21_row6_col1\" class=\"data row6 col1\" >6.000000</td>\n",
              "      <td id=\"T_eac21_row6_col2\" class=\"data row6 col2\" >8.000000</td>\n",
              "      <td id=\"T_eac21_row6_col3\" class=\"data row6 col3\" >800000.000000</td>\n",
              "    </tr>\n",
              "    <tr>\n",
              "      <th id=\"T_eac21_level0_row7\" class=\"row_heading level0 row7\" >max</th>\n",
              "      <td id=\"T_eac21_row7_col0\" class=\"data row7 col0\" >9000.000000</td>\n",
              "      <td id=\"T_eac21_row7_col1\" class=\"data row7 col1\" >9.000000</td>\n",
              "      <td id=\"T_eac21_row7_col2\" class=\"data row7 col2\" >18.000000</td>\n",
              "      <td id=\"T_eac21_row7_col3\" class=\"data row7 col3\" >900000.000000</td>\n",
              "    </tr>\n",
              "  </tbody>\n",
              "</table>\n"
            ]
          },
          "metadata": {},
          "execution_count": 6
        }
      ],
      "source": [
        "df.describe().style.background_gradient(cmap='CMRmap')"
      ]
    },
    {
      "cell_type": "markdown",
      "metadata": {
        "papermill": {
          "duration": 0.021649,
          "end_time": "2021-07-13T12:15:16.921528",
          "exception": false,
          "start_time": "2021-07-13T12:15:16.899879",
          "status": "completed"
        },
        "tags": [],
        "id": "rXCX-KTJWf2K"
      },
      "source": [
        "# 2. Data Analysis"
      ]
    },
    {
      "cell_type": "code",
      "execution_count": 7,
      "metadata": {
        "execution": {
          "iopub.execute_input": "2021-07-13T12:15:16.975752Z",
          "iopub.status.busy": "2021-07-13T12:15:16.974775Z",
          "iopub.status.idle": "2021-07-13T12:15:16.980147Z",
          "shell.execute_reply": "2021-07-13T12:15:16.979556Z"
        },
        "papermill": {
          "duration": 0.036065,
          "end_time": "2021-07-13T12:15:16.980285",
          "exception": false,
          "start_time": "2021-07-13T12:15:16.944220",
          "status": "completed"
        },
        "tags": [],
        "colab": {
          "base_uri": "https://localhost:8080/"
        },
        "id": "sbenc-3TWf2K",
        "outputId": "c77d4ba8-ed1e-4ca5-8925-7652dd6c4f50"
      },
      "outputs": [
        {
          "output_type": "execute_result",
          "data": {
            "text/plain": [
              "area        0\n",
              "bedrooms    0\n",
              "age         0\n",
              "price       0\n",
              "dtype: int64"
            ]
          },
          "metadata": {},
          "execution_count": 7
        }
      ],
      "source": [
        "df.isna().sum()"
      ]
    },
    {
      "cell_type": "markdown",
      "metadata": {
        "papermill": {
          "duration": 0.022257,
          "end_time": "2021-07-13T12:15:17.025323",
          "exception": false,
          "start_time": "2021-07-13T12:15:17.003066",
          "status": "completed"
        },
        "tags": [],
        "id": "uqX7i2g6Wf2K"
      },
      "source": [
        "* we can see here only bedrooms has null values"
      ]
    },
    {
      "cell_type": "code",
      "execution_count": 8,
      "metadata": {
        "execution": {
          "iopub.execute_input": "2021-07-13T12:15:17.086185Z",
          "iopub.status.busy": "2021-07-13T12:15:17.085208Z",
          "iopub.status.idle": "2021-07-13T12:15:17.090480Z",
          "shell.execute_reply": "2021-07-13T12:15:17.089777Z"
        },
        "papermill": {
          "duration": 0.042972,
          "end_time": "2021-07-13T12:15:17.090601",
          "exception": false,
          "start_time": "2021-07-13T12:15:17.047629",
          "status": "completed"
        },
        "tags": [],
        "colab": {
          "base_uri": "https://localhost:8080/",
          "height": 206
        },
        "id": "Di3Ah2nGWf2L",
        "outputId": "1d6e1513-8300-458b-a67b-5d6c3eed9209"
      },
      "outputs": [
        {
          "output_type": "execute_result",
          "data": {
            "text/plain": [
              "   area  bedrooms  age   price\n",
              "0  1700         3    2  550000\n",
              "1  2100         4   11  565000\n",
              "2  1500         2   18  610000\n",
              "3  2100         3    3  595000\n",
              "4  9000         5    5  760000"
            ],
            "text/html": [
              "\n",
              "  <div id=\"df-8db3b43a-b607-497c-ab5f-5ff420928c7e\">\n",
              "    <div class=\"colab-df-container\">\n",
              "      <div>\n",
              "<style scoped>\n",
              "    .dataframe tbody tr th:only-of-type {\n",
              "        vertical-align: middle;\n",
              "    }\n",
              "\n",
              "    .dataframe tbody tr th {\n",
              "        vertical-align: top;\n",
              "    }\n",
              "\n",
              "    .dataframe thead th {\n",
              "        text-align: right;\n",
              "    }\n",
              "</style>\n",
              "<table border=\"1\" class=\"dataframe\">\n",
              "  <thead>\n",
              "    <tr style=\"text-align: right;\">\n",
              "      <th></th>\n",
              "      <th>area</th>\n",
              "      <th>bedrooms</th>\n",
              "      <th>age</th>\n",
              "      <th>price</th>\n",
              "    </tr>\n",
              "  </thead>\n",
              "  <tbody>\n",
              "    <tr>\n",
              "      <th>0</th>\n",
              "      <td>1700</td>\n",
              "      <td>3</td>\n",
              "      <td>2</td>\n",
              "      <td>550000</td>\n",
              "    </tr>\n",
              "    <tr>\n",
              "      <th>1</th>\n",
              "      <td>2100</td>\n",
              "      <td>4</td>\n",
              "      <td>11</td>\n",
              "      <td>565000</td>\n",
              "    </tr>\n",
              "    <tr>\n",
              "      <th>2</th>\n",
              "      <td>1500</td>\n",
              "      <td>2</td>\n",
              "      <td>18</td>\n",
              "      <td>610000</td>\n",
              "    </tr>\n",
              "    <tr>\n",
              "      <th>3</th>\n",
              "      <td>2100</td>\n",
              "      <td>3</td>\n",
              "      <td>3</td>\n",
              "      <td>595000</td>\n",
              "    </tr>\n",
              "    <tr>\n",
              "      <th>4</th>\n",
              "      <td>9000</td>\n",
              "      <td>5</td>\n",
              "      <td>5</td>\n",
              "      <td>760000</td>\n",
              "    </tr>\n",
              "  </tbody>\n",
              "</table>\n",
              "</div>\n",
              "      <button class=\"colab-df-convert\" onclick=\"convertToInteractive('df-8db3b43a-b607-497c-ab5f-5ff420928c7e')\"\n",
              "              title=\"Convert this dataframe to an interactive table.\"\n",
              "              style=\"display:none;\">\n",
              "        \n",
              "  <svg xmlns=\"http://www.w3.org/2000/svg\" height=\"24px\"viewBox=\"0 0 24 24\"\n",
              "       width=\"24px\">\n",
              "    <path d=\"M0 0h24v24H0V0z\" fill=\"none\"/>\n",
              "    <path d=\"M18.56 5.44l.94 2.06.94-2.06 2.06-.94-2.06-.94-.94-2.06-.94 2.06-2.06.94zm-11 1L8.5 8.5l.94-2.06 2.06-.94-2.06-.94L8.5 2.5l-.94 2.06-2.06.94zm10 10l.94 2.06.94-2.06 2.06-.94-2.06-.94-.94-2.06-.94 2.06-2.06.94z\"/><path d=\"M17.41 7.96l-1.37-1.37c-.4-.4-.92-.59-1.43-.59-.52 0-1.04.2-1.43.59L10.3 9.45l-7.72 7.72c-.78.78-.78 2.05 0 2.83L4 21.41c.39.39.9.59 1.41.59.51 0 1.02-.2 1.41-.59l7.78-7.78 2.81-2.81c.8-.78.8-2.07 0-2.86zM5.41 20L4 18.59l7.72-7.72 1.47 1.35L5.41 20z\"/>\n",
              "  </svg>\n",
              "      </button>\n",
              "      \n",
              "  <style>\n",
              "    .colab-df-container {\n",
              "      display:flex;\n",
              "      flex-wrap:wrap;\n",
              "      gap: 12px;\n",
              "    }\n",
              "\n",
              "    .colab-df-convert {\n",
              "      background-color: #E8F0FE;\n",
              "      border: none;\n",
              "      border-radius: 50%;\n",
              "      cursor: pointer;\n",
              "      display: none;\n",
              "      fill: #1967D2;\n",
              "      height: 32px;\n",
              "      padding: 0 0 0 0;\n",
              "      width: 32px;\n",
              "    }\n",
              "\n",
              "    .colab-df-convert:hover {\n",
              "      background-color: #E2EBFA;\n",
              "      box-shadow: 0px 1px 2px rgba(60, 64, 67, 0.3), 0px 1px 3px 1px rgba(60, 64, 67, 0.15);\n",
              "      fill: #174EA6;\n",
              "    }\n",
              "\n",
              "    [theme=dark] .colab-df-convert {\n",
              "      background-color: #3B4455;\n",
              "      fill: #D2E3FC;\n",
              "    }\n",
              "\n",
              "    [theme=dark] .colab-df-convert:hover {\n",
              "      background-color: #434B5C;\n",
              "      box-shadow: 0px 1px 3px 1px rgba(0, 0, 0, 0.15);\n",
              "      filter: drop-shadow(0px 1px 2px rgba(0, 0, 0, 0.3));\n",
              "      fill: #FFFFFF;\n",
              "    }\n",
              "  </style>\n",
              "\n",
              "      <script>\n",
              "        const buttonEl =\n",
              "          document.querySelector('#df-8db3b43a-b607-497c-ab5f-5ff420928c7e button.colab-df-convert');\n",
              "        buttonEl.style.display =\n",
              "          google.colab.kernel.accessAllowed ? 'block' : 'none';\n",
              "\n",
              "        async function convertToInteractive(key) {\n",
              "          const element = document.querySelector('#df-8db3b43a-b607-497c-ab5f-5ff420928c7e');\n",
              "          const dataTable =\n",
              "            await google.colab.kernel.invokeFunction('convertToInteractive',\n",
              "                                                     [key], {});\n",
              "          if (!dataTable) return;\n",
              "\n",
              "          const docLinkHtml = 'Like what you see? Visit the ' +\n",
              "            '<a target=\"_blank\" href=https://colab.research.google.com/notebooks/data_table.ipynb>data table notebook</a>'\n",
              "            + ' to learn more about interactive tables.';\n",
              "          element.innerHTML = '';\n",
              "          dataTable['output_type'] = 'display_data';\n",
              "          await google.colab.output.renderOutput(dataTable, element);\n",
              "          const docLink = document.createElement('div');\n",
              "          docLink.innerHTML = docLinkHtml;\n",
              "          element.appendChild(docLink);\n",
              "        }\n",
              "      </script>\n",
              "    </div>\n",
              "  </div>\n",
              "  "
            ]
          },
          "metadata": {},
          "execution_count": 8
        }
      ],
      "source": [
        "df['bedrooms'] = df['bedrooms'].fillna( df['bedrooms'].mean() )\n",
        "df.head()"
      ]
    },
    {
      "cell_type": "markdown",
      "metadata": {
        "papermill": {
          "duration": 0.023009,
          "end_time": "2021-07-13T12:15:17.136766",
          "exception": false,
          "start_time": "2021-07-13T12:15:17.113757",
          "status": "completed"
        },
        "tags": [],
        "id": "-uqspcNfWf2L"
      },
      "source": [
        "# 3. Data Visualization"
      ]
    },
    {
      "cell_type": "code",
      "execution_count": 9,
      "metadata": {
        "execution": {
          "iopub.execute_input": "2021-07-13T12:15:17.190706Z",
          "iopub.status.busy": "2021-07-13T12:15:17.189946Z",
          "iopub.status.idle": "2021-07-13T12:15:17.440318Z",
          "shell.execute_reply": "2021-07-13T12:15:17.440873Z"
        },
        "papermill": {
          "duration": 0.280748,
          "end_time": "2021-07-13T12:15:17.441041",
          "exception": false,
          "start_time": "2021-07-13T12:15:17.160293",
          "status": "completed"
        },
        "tags": [],
        "colab": {
          "base_uri": "https://localhost:8080/",
          "height": 458
        },
        "id": "C4GV3Yf6Wf2M",
        "outputId": "e1eaec49-802f-437c-ab25-40fe22852f2e"
      },
      "outputs": [
        {
          "output_type": "display_data",
          "data": {
            "text/plain": [
              "<Figure size 720x504 with 1 Axes>"
            ],
            "image/png": "[encoded data removed]"
          },
          "metadata": {
            "needs_background": "light"
          }
        }
      ],
      "source": [
        "plt.figure(figsize=(10, 7))\n",
        "plt.title(\"Bedroom wise price increase.\")\n",
        "\n",
        "sns.barplot('bedrooms', 'price', data=df)\n",
        "plt.xlabel('Bedrooms', )\n",
        "plt.ylabel('Price')\n",
        "plt.show()"
      ]
    },
    {
      "cell_type": "code",
      "execution_count": 10,
      "metadata": {
        "execution": {
          "iopub.execute_input": "2021-07-13T12:15:17.492513Z",
          "iopub.status.busy": "2021-07-13T12:15:17.491797Z",
          "iopub.status.idle": "2021-07-13T12:15:17.684771Z",
          "shell.execute_reply": "2021-07-13T12:15:17.685337Z"
        },
        "papermill": {
          "duration": 0.2205,
          "end_time": "2021-07-13T12:15:17.685493",
          "exception": false,
          "start_time": "2021-07-13T12:15:17.464993",
          "status": "completed"
        },
        "tags": [],
        "colab": {
          "base_uri": "https://localhost:8080/",
          "height": 350
        },
        "id": "GKzf-Rm6Wf2M",
        "outputId": "61ba3b62-07b5-439f-f02c-eb12761c6510"
      },
      "outputs": [
        {
          "output_type": "display_data",
          "data": {
            "text/plain": [
              "<Figure size 720x360 with 1 Axes>"
            ],
            "image/png": "[encoded data removed]"
          },
          "metadata": {
            "needs_background": "light"
          }
        }
      ],
      "source": [
        "plt.figure(figsize=(10, 5))\n",
        "\n",
        "sns.scatterplot('bedrooms', 'price',data=df)\n",
        "plt.title(\"Price vs Bedroom Scatter plot\")\n",
        "\n",
        "plt.xlabel(\"House Bedrooms\")\n",
        "plt.ylabel('House Price')\n",
        "plt.show()"
      ]
    },
    {
      "cell_type": "markdown",
      "metadata": {
        "papermill": {
          "duration": 0.024849,
          "end_time": "2021-07-13T12:15:17.735525",
          "exception": false,
          "start_time": "2021-07-13T12:15:17.710676",
          "status": "completed"
        },
        "tags": [],
        "id": "aTV624a5Wf2N"
      },
      "source": [
        "* Here we can see bedrooms and price linearly related, House's Price increased if bedroom size will increase."
      ]
    },
    {
      "cell_type": "code",
      "execution_count": 11,
      "metadata": {
        "execution": {
          "iopub.execute_input": "2021-07-13T12:15:17.789554Z",
          "iopub.status.busy": "2021-07-13T12:15:17.788869Z",
          "iopub.status.idle": "2021-07-13T12:15:18.158023Z",
          "shell.execute_reply": "2021-07-13T12:15:18.158642Z"
        },
        "papermill": {
          "duration": 0.398173,
          "end_time": "2021-07-13T12:15:18.158841",
          "exception": false,
          "start_time": "2021-07-13T12:15:17.760668",
          "status": "completed"
        },
        "tags": [],
        "colab": {
          "base_uri": "https://localhost:8080/",
          "height": 391
        },
        "id": "G_PHQ9sCWf2N",
        "outputId": "14d6744a-6648-455d-9f48-3c0619843443"
      },
      "outputs": [
        {
          "output_type": "display_data",
          "data": {
            "text/plain": [
              "<Figure size 720x504 with 0 Axes>"
            ]
          },
          "metadata": {}
        },
        {
          "output_type": "display_data",
          "data": {
            "text/plain": [
              "<Figure size 360x360 with 1 Axes>"
            ],
            "image/png": "[encoded data removed]"
          },
          "metadata": {
            "needs_background": "light"
          }
        }
      ],
      "source": [
        "plt.figure(figsize=(10, 7))\n",
        "\n",
        "sns.lmplot(x=\"bedrooms\", y=\"price\", data=df);\n",
        "plt.title(\"Price and bedroom wise line plot\")\n",
        "plt.show()"
      ]
    },
    {
      "cell_type": "markdown",
      "metadata": {
        "papermill": {
          "duration": 0.026458,
          "end_time": "2021-07-13T12:15:18.213707",
          "exception": false,
          "start_time": "2021-07-13T12:15:18.187249",
          "status": "completed"
        },
        "tags": [],
        "id": "Yo0qQpxOWf2O"
      },
      "source": [
        "# 4. Model Implementing"
      ]
    },
    {
      "cell_type": "code",
      "execution_count": 12,
      "metadata": {
        "execution": {
          "iopub.execute_input": "2021-07-13T12:15:18.270968Z",
          "iopub.status.busy": "2021-07-13T12:15:18.270257Z",
          "iopub.status.idle": "2021-07-13T12:15:18.606541Z",
          "shell.execute_reply": "2021-07-13T12:15:18.607138Z"
        },
        "papermill": {
          "duration": 0.366868,
          "end_time": "2021-07-13T12:15:18.607336",
          "exception": false,
          "start_time": "2021-07-13T12:15:18.240468",
          "status": "completed"
        },
        "tags": [],
        "id": "E6bubMsoWf2O"
      },
      "outputs": [],
      "source": [
        "from sklearn.linear_model import LinearRegression"
      ]
    },
    {
      "cell_type": "markdown",
      "metadata": {
        "papermill": {
          "duration": 0.026858,
          "end_time": "2021-07-13T12:15:18.661585",
          "exception": false,
          "start_time": "2021-07-13T12:15:18.634727",
          "status": "completed"
        },
        "tags": [],
        "id": "Apw5v1Q2Wf2P"
      },
      "source": [
        "* Now, Create model instance from LinearRegression class"
      ]
    },
    {
      "cell_type": "code",
      "execution_count": 13,
      "metadata": {
        "execution": {
          "iopub.execute_input": "2021-07-13T12:15:18.732087Z",
          "iopub.status.busy": "2021-07-13T12:15:18.731434Z",
          "iopub.status.idle": "2021-07-13T12:15:18.739150Z",
          "shell.execute_reply": "2021-07-13T12:15:18.738469Z"
        },
        "papermill": {
          "duration": 0.04766,
          "end_time": "2021-07-13T12:15:18.739322",
          "exception": false,
          "start_time": "2021-07-13T12:15:18.691662",
          "status": "completed"
        },
        "tags": [],
        "id": "LnNqlqJ4Wf2P"
      },
      "outputs": [],
      "source": [
        "mdl = LinearRegression()"
      ]
    },
    {
      "cell_type": "markdown",
      "metadata": {
        "papermill": {
          "duration": 0.027895,
          "end_time": "2021-07-13T12:15:18.799618",
          "exception": false,
          "start_time": "2021-07-13T12:15:18.771723",
          "status": "completed"
        },
        "tags": [],
        "id": "rB9Y2fgLWf2P"
      },
      "source": [
        "* Before fitting the model, create X and y for model fitting"
      ]
    },
    {
      "cell_type": "code",
      "execution_count": 14,
      "metadata": {
        "execution": {
          "iopub.execute_input": "2021-07-13T12:15:18.862895Z",
          "iopub.status.busy": "2021-07-13T12:15:18.861782Z",
          "iopub.status.idle": "2021-07-13T12:15:18.864533Z",
          "shell.execute_reply": "2021-07-13T12:15:18.865009Z"
        },
        "papermill": {
          "duration": 0.037728,
          "end_time": "2021-07-13T12:15:18.865197",
          "exception": false,
          "start_time": "2021-07-13T12:15:18.827469",
          "status": "completed"
        },
        "tags": [],
        "id": "qxcLmCmOWf2Q"
      },
      "outputs": [],
      "source": [
        "X = df.drop(['price'], axis=1)\n",
        "y = df['price']"
      ]
    },
    {
      "cell_type": "code",
      "execution_count": 15,
      "metadata": {
        "execution": {
          "iopub.execute_input": "2021-07-13T12:15:18.924478Z",
          "iopub.status.busy": "2021-07-13T12:15:18.923445Z",
          "iopub.status.idle": "2021-07-13T12:15:18.934833Z",
          "shell.execute_reply": "2021-07-13T12:15:18.935397Z"
        },
        "papermill": {
          "duration": 0.042602,
          "end_time": "2021-07-13T12:15:18.935571",
          "exception": false,
          "start_time": "2021-07-13T12:15:18.892969",
          "status": "completed"
        },
        "tags": [],
        "colab": {
          "base_uri": "https://localhost:8080/"
        },
        "id": "ADraVAJ_Wf2Q",
        "outputId": "464e6e8e-61ff-495b-d876-395a1bdc7962"
      },
      "outputs": [
        {
          "output_type": "stream",
          "name": "stdout",
          "text": [
            "<class 'pandas.core.frame.DataFrame'>\n",
            "RangeIndex: 25 entries, 0 to 24\n",
            "Data columns (total 4 columns):\n",
            " #   Column    Non-Null Count  Dtype\n",
            "---  ------    --------------  -----\n",
            " 0   area      25 non-null     int64\n",
            " 1   bedrooms  25 non-null     int64\n",
            " 2   age       25 non-null     int64\n",
            " 3   price     25 non-null     int64\n",
            "dtypes: int64(4)\n",
            "memory usage: 928.0 bytes\n"
          ]
        }
      ],
      "source": [
        "df['bedrooms'] = df['bedrooms'].astype('int64')\n",
        "\n",
        "df.info()"
      ]
    },
    {
      "cell_type": "code",
      "execution_count": 16,
      "metadata": {
        "execution": {
          "iopub.execute_input": "2021-07-13T12:15:18.999262Z",
          "iopub.status.busy": "2021-07-13T12:15:18.998504Z",
          "iopub.status.idle": "2021-07-13T12:15:19.007873Z",
          "shell.execute_reply": "2021-07-13T12:15:19.007092Z"
        },
        "papermill": {
          "duration": 0.044925,
          "end_time": "2021-07-13T12:15:19.008038",
          "exception": false,
          "start_time": "2021-07-13T12:15:18.963113",
          "status": "completed"
        },
        "tags": [],
        "colab": {
          "base_uri": "https://localhost:8080/"
        },
        "id": "_MbfXgbeWf2R",
        "outputId": "308ef776-2dcd-40db-e428-14a5c7f1d184"
      },
      "outputs": [
        {
          "output_type": "stream",
          "name": "stdout",
          "text": [
            "    area  bedrooms  age\n",
            "0   1700         3    2\n",
            "1   2100         4   11\n",
            "2   1500         2   18\n",
            "3   2100         3    3\n",
            "4   9000         5    5\n",
            "5   1200         6    8\n",
            "6   9000         5    0\n",
            "7   7000         4   10\n",
            "8   8000         7   15\n",
            "9   7000         6    8\n",
            "10   500         2    6\n",
            "11  7000         5    0\n",
            "12  9000         6    2\n",
            "13  4000         4    4\n",
            "14  6000         3    7\n",
            "15  9000         7    6\n",
            "16   400         1    9\n",
            "17  8000         4    5\n",
            "18  9000         6    7\n",
            "19   600         2    0\n",
            "20  8000         6    1\n",
            "21  9000         9    5\n",
            "22   600         4    7\n",
            "23   200         1    0\n",
            "24  7000         6    0\n",
            "-------------------------\n",
            "0     550000\n",
            "1     565000\n",
            "2     610000\n",
            "3     595000\n",
            "4     760000\n",
            "5     810000\n",
            "6     760000\n",
            "7     810000\n",
            "8     900000\n",
            "9     800000\n",
            "10     60000\n",
            "11    810000\n",
            "12    700000\n",
            "13    450000\n",
            "14    400000\n",
            "15    810000\n",
            "16     10000\n",
            "17    450000\n",
            "18    690000\n",
            "19     20000\n",
            "20    560000\n",
            "21    810000\n",
            "22    270000\n",
            "23     10000\n",
            "24    760000\n",
            "Name: price, dtype: int64\n"
          ]
        }
      ],
      "source": [
        "print(X)\n",
        "print(\"-\" * 25)\n",
        "print(y)"
      ]
    },
    {
      "cell_type": "markdown",
      "metadata": {
        "papermill": {
          "duration": 0.029038,
          "end_time": "2021-07-13T12:15:19.066944",
          "exception": false,
          "start_time": "2021-07-13T12:15:19.037906",
          "status": "completed"
        },
        "tags": [],
        "id": "TPegR12FWf2R"
      },
      "source": [
        "* Now, We are going to fitting the training and testing data"
      ]
    },
    {
      "cell_type": "code",
      "execution_count": 17,
      "metadata": {
        "execution": {
          "iopub.execute_input": "2021-07-13T12:15:19.128913Z",
          "iopub.status.busy": "2021-07-13T12:15:19.127897Z",
          "iopub.status.idle": "2021-07-13T12:15:19.149222Z",
          "shell.execute_reply": "2021-07-13T12:15:19.148420Z"
        },
        "papermill": {
          "duration": 0.053082,
          "end_time": "2021-07-13T12:15:19.149367",
          "exception": false,
          "start_time": "2021-07-13T12:15:19.096285",
          "status": "completed"
        },
        "tags": [],
        "colab": {
          "base_uri": "https://localhost:8080/"
        },
        "id": "Zi3MUuQLWf2S",
        "outputId": "b7bd5567-1a7b-40ce-cee1-70c398e25f55"
      },
      "outputs": [
        {
          "output_type": "execute_result",
          "data": {
            "text/plain": [
              "LinearRegression()"
            ]
          },
          "metadata": {},
          "execution_count": 17
        }
      ],
      "source": [
        "mdl.fit( X, y  )"
      ]
    },
    {
      "cell_type": "markdown",
      "metadata": {
        "papermill": {
          "duration": 0.031522,
          "end_time": "2021-07-13T12:15:19.210061",
          "exception": false,
          "start_time": "2021-07-13T12:15:19.178539",
          "status": "completed"
        },
        "tags": [],
        "id": "-ZYKsoRlWf2S"
      },
      "source": [
        "# Prediction \n"
      ]
    },
    {
      "cell_type": "code",
      "execution_count": 18,
      "metadata": {
        "execution": {
          "iopub.execute_input": "2021-07-13T12:15:19.274696Z",
          "iopub.status.busy": "2021-07-13T12:15:19.273750Z",
          "iopub.status.idle": "2021-07-13T12:15:19.278643Z",
          "shell.execute_reply": "2021-07-13T12:15:19.277908Z"
        },
        "papermill": {
          "duration": 0.039982,
          "end_time": "2021-07-13T12:15:19.278776",
          "exception": false,
          "start_time": "2021-07-13T12:15:19.238794",
          "status": "completed"
        },
        "tags": [],
        "colab": {
          "base_uri": "https://localhost:8080/"
        },
        "id": "dxyOfxoIWf2S",
        "outputId": "d7059c38-204b-4cd9-8ea1-5869fa5366ec"
      },
      "outputs": [
        {
          "output_type": "execute_result",
          "data": {
            "text/plain": [
              "array([917095.22179782])"
            ]
          },
          "metadata": {},
          "execution_count": 18
        }
      ],
      "source": [
        "mdl.predict([[ 4000, 2, 50 ]])"
      ]
    },
    {
      "cell_type": "markdown",
      "metadata": {
        "papermill": {
          "duration": 0.029118,
          "end_time": "2021-07-13T12:15:19.336985",
          "exception": false,
          "start_time": "2021-07-13T12:15:19.307867",
          "status": "completed"
        },
        "tags": [],
        "id": "kfR0lkX2Wf2S"
      },
      "source": [
        "- Show Coeficient"
      ]
    },
    {
      "cell_type": "code",
      "execution_count": 19,
      "metadata": {
        "execution": {
          "iopub.execute_input": "2021-07-13T12:15:19.402276Z",
          "iopub.status.busy": "2021-07-13T12:15:19.401422Z",
          "iopub.status.idle": "2021-07-13T12:15:19.406300Z",
          "shell.execute_reply": "2021-07-13T12:15:19.405719Z"
        },
        "papermill": {
          "duration": 0.040119,
          "end_time": "2021-07-13T12:15:19.406424",
          "exception": false,
          "start_time": "2021-07-13T12:15:19.366305",
          "status": "completed"
        },
        "tags": [],
        "colab": {
          "base_uri": "https://localhost:8080/"
        },
        "id": "yyuP3cNaWf2T",
        "outputId": "8f4cb5e0-61e0-46a0-ff33-23becf374414"
      },
      "outputs": [
        {
          "output_type": "execute_result",
          "data": {
            "text/plain": [
              "array([2.38748121e+01, 8.08635701e+04, 1.30803697e+04])"
            ]
          },
          "metadata": {},
          "execution_count": 19
        }
      ],
      "source": [
        "mdl.coef_"
      ]
    },
    {
      "cell_type": "markdown",
      "metadata": {
        "papermill": {
          "duration": 0.029266,
          "end_time": "2021-07-13T12:15:19.465676",
          "exception": false,
          "start_time": "2021-07-13T12:15:19.436410",
          "status": "completed"
        },
        "tags": [],
        "id": "8noJjhO4Wf2T"
      },
      "source": [
        "- Show intecept"
      ]
    },
    {
      "cell_type": "code",
      "execution_count": 20,
      "metadata": {
        "execution": {
          "iopub.execute_input": "2021-07-13T12:15:19.530244Z",
          "iopub.status.busy": "2021-07-13T12:15:19.529583Z",
          "iopub.status.idle": "2021-07-13T12:15:19.533416Z",
          "shell.execute_reply": "2021-07-13T12:15:19.532748Z"
        },
        "papermill": {
          "duration": 0.038257,
          "end_time": "2021-07-13T12:15:19.533538",
          "exception": false,
          "start_time": "2021-07-13T12:15:19.495281",
          "status": "completed"
        },
        "tags": [],
        "colab": {
          "base_uri": "https://localhost:8080/"
        },
        "id": "d3jrUzqYWf2T",
        "outputId": "59209602-20b1-41c7-e283-fdd4aebc82be"
      },
      "outputs": [
        {
          "output_type": "execute_result",
          "data": {
            "text/plain": [
              "5850.346939025214"
            ]
          },
          "metadata": {},
          "execution_count": 20
        }
      ],
      "source": [
        "mdl.intercept_"
      ]
    },
    {
      "cell_type": "code",
      "execution_count": 21,
      "metadata": {
        "execution": {
          "iopub.execute_input": "2021-07-13T12:15:19.602760Z",
          "iopub.status.busy": "2021-07-13T12:15:19.602013Z",
          "iopub.status.idle": "2021-07-13T12:15:19.606245Z",
          "shell.execute_reply": "2021-07-13T12:15:19.606938Z"
        },
        "papermill": {
          "duration": 0.043236,
          "end_time": "2021-07-13T12:15:19.607146",
          "exception": false,
          "start_time": "2021-07-13T12:15:19.563910",
          "status": "completed"
        },
        "tags": [],
        "colab": {
          "base_uri": "https://localhost:8080/"
        },
        "id": "K0ITbp_ZWf2T",
        "outputId": "06bf93f5-7e9d-40e6-a366-c939f4539da7"
      },
      "outputs": [
        {
          "output_type": "stream",
          "name": "stdout",
          "text": [
            "71.18410880655892\n"
          ]
        }
      ],
      "source": [
        "score = mdl.score( X, y )\n",
        "\n",
        "print(score * 100)"
      ]
    }
  ],
  "metadata": {
    "kernelspec": {
      "display_name": "Python 3",
      "language": "python",
      "name": "python3"
    },
    "language_info": {
      "codemirror_mode": {
        "name": "ipython",
        "version": 3
      },
      "file_extension": ".py",
      "mimetype": "text/x-python",
      "name": "python",
      "nbconvert_exporter": "python",
      "pygments_lexer": "ipython3",
      "version": "3.7.6"
    },
    "papermill": {
      "duration": 9.273362,
      "end_time": "2021-07-13T12:15:19.808085",
      "environment_variables": {},
      "exception": null,
      "input_path": "__notebook__.ipynb",
      "output_path": "__notebook__.ipynb",
      "parameters": {},
      "start_time": "2021-07-13T12:15:10.534723",
      "version": "2.1.0"
    },
    "colab": {
      "name": "house_price_prediction_multiple_linear_regression.ipynb",
      "provenance": []
    }
  },
  "nbformat": 4,
  "nbformat_minor": 0
}